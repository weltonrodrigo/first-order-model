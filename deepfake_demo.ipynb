{
  "nbformat": 4,
  "nbformat_minor": 0,
  "metadata": {
    "colab": {
      "name": "deepfake demo.ipynb",
      "provenance": [],
      "collapsed_sections": [
        "cdO_RxQZLahB",
        "acXeYaG7l7fC"
      ],
      "include_colab_link": true
    },
    "kernelspec": {
      "name": "python3",
      "display_name": "Python 3"
    },
    "accelerator": "GPU"
  },
  "cells": [
    {
      "cell_type": "markdown",
      "metadata": {
        "id": "view-in-github",
        "colab_type": "text"
      },
      "source": [
        "<a href=\"https://colab.research.google.com/github/weltonrodrigo/first-order-model/blob/master/deepfake_demo.ipynb\" target=\"_parent\"><img src=\"https://colab.research.google.com/assets/colab-badge.svg\" alt=\"Open In Colab\"/></a>"
      ]
    },
    {
      "cell_type": "markdown",
      "metadata": {
        "id": "j6Bx409rmMSR",
        "colab_type": "text"
      },
      "source": [
        "## 💔 Só funciona no Google Chrome💔.\n",
        "# Para gerar seu deepfake, você só precisa:\n",
        "\n",
        "\n",
        "1.   Ir no menu **Runtime -> Run all**\n",
        "![alt text](https://i.ibb.co/GMT693y/run-all.png)\n",
        "2.   Aguardar uns 30 segundos enquanto roda a inicialização da rede neural.\n",
        "2.   Fazer o upload do seu vídeo na <h2>🎬 Célula 1</h2>\n",
        "3.   Fazer o upload da imagem na <h2>📸 Célula 2</h2>\n",
        "2.   Aguardar o resultado ficar pronto, no <h2>🥌 final da página</h2>.\n"
      ]
    },
    {
      "cell_type": "markdown",
      "metadata": {
        "id": "cdO_RxQZLahB",
        "colab_type": "text"
      },
      "source": [
        "# Um monte de coisa preparada antes que você não precisa mexer."
      ]
    },
    {
      "cell_type": "code",
      "metadata": {
        "id": "sfqh3MbBbeVt",
        "colab_type": "code",
        "colab": {}
      },
      "source": [
        "import imageio\n",
        "import numpy as np\n",
        "import matplotlib.pyplot as plt\n",
        "import matplotlib.animation as animation\n",
        "from skimage.transform import resize\n",
        "from IPython.display import HTML\n",
        "import warnings\n",
        "warnings.filterwarnings(\"ignore\")\n",
        "from IPython.display import HTML\n",
        "from base64 import b64encode"
      ],
      "execution_count": 0,
      "outputs": []
    },
    {
      "cell_type": "code",
      "metadata": {
        "id": "18xUEUY-1lWG",
        "colab_type": "code",
        "colab": {}
      },
      "source": [
        "!pip install face_alignment imageio-ffmpeg autocrop"
      ],
      "execution_count": 0,
      "outputs": []
    },
    {
      "cell_type": "code",
      "metadata": {
        "id": "TmFvbfm4ifsY",
        "colab_type": "code",
        "colab": {}
      },
      "source": [
        "!rm -rf first-order-model\n",
        "!git clone https://github.com/AliaksandrSiarohin/first-order-model\n"
      ],
      "execution_count": 0,
      "outputs": []
    },
    {
      "cell_type": "code",
      "metadata": {
        "id": "V8aJLgmEkNlY",
        "colab_type": "code",
        "colab": {}
      },
      "source": [
        "cd /content/first-order-model"
      ],
      "execution_count": 0,
      "outputs": []
    },
    {
      "cell_type": "code",
      "metadata": {
        "id": "HmUmOrOLiqjR",
        "colab_type": "code",
        "colab": {}
      },
      "source": [
        "!curl -C - -L https://1drv.ws/u/s!AsP1keFmL5J8gZQO3oDQHOXnDS3_qA?e=RpmJNJ -o vox-cpk.pth.tar"
      ],
      "execution_count": 0,
      "outputs": []
    },
    {
      "cell_type": "code",
      "metadata": {
        "id": "htFWHk65ixaT",
        "colab_type": "code",
        "colab": {}
      },
      "source": [
        "from demo import load_checkpoints\n",
        "generator, kp_detector = load_checkpoints(config_path='config/vox-256.yaml', checkpoint_path='vox-cpk.pth.tar')"
      ],
      "execution_count": 0,
      "outputs": []
    },
    {
      "cell_type": "code",
      "metadata": {
        "id": "pe9y_SOAEIUE",
        "colab_type": "code",
        "colab": {}
      },
      "source": [
        "import numpy as np\n",
        "import pandas as pd\n",
        "import imageio\n",
        "from skimage.transform import resize\n",
        "from argparse import ArgumentParser\n",
        "from skimage import img_as_ubyte\n",
        "import os\n",
        "import subprocess\n",
        "from multiprocessing import Process\n",
        "import warnings\n",
        "import sys\n",
        "import glob\n",
        "from tqdm import tqdm\n",
        "import face_alignment\n",
        "\n",
        "warnings.filterwarnings(\"ignore\")\n",
        "\n",
        "\n",
        "def compute_aspect_preserved_bbox(bbox, increase_area):\n",
        "    left, top, right, bot = bbox\n",
        "    width = right - left\n",
        "    height = bot - top\n",
        " \n",
        "    width_increase = max(increase_area, ((1 + 2 * increase_area) * height - width) / (2 * width))\n",
        "    height_increase = max(increase_area, ((1 + 2 * increase_area) * width - height) / (2 * height))\n",
        "\n",
        "    left = int(left - width_increase * width)\n",
        "    top = int(top - height_increase * height)\n",
        "    right = int(right + width_increase * width)\n",
        "    bot = int(bot + height_increase * height)\n",
        "\n",
        "    return (left, top, right, bot)\n",
        "\n",
        "def extract_bbox(frame, fa):\n",
        "    bbox = fa.face_detector.detect_from_image(frame[..., ::-1])[0]    \n",
        "    return bbox\n",
        "\n",
        "def process_video(video_path, output_filename):\n",
        "    fa = face_alignment.FaceAlignment(face_alignment.LandmarksType._2D, flip_input=False, device='cpu')\n",
        "    # video_path = os.path.join(args.in_folder, video_filename)\n",
        "    reader = imageio.get_reader(video_path)\n",
        "    tube_bbox = None\n",
        "    frame_list = []\n",
        "    for i, frame in enumerate(reader):\n",
        "        if i == 0:\n",
        "            # bbox = extract_bbox(resize(frame, (360, 640), preserve_range=True), fa)\n",
        "            bbox = extract_bbox(frame, fa)\n",
        "            # print(bbox)\n",
        "            # bbox = bbox * 3\n",
        "            print(bbox)\n",
        "            #left, top, right, bot, _ = bbox\n",
        "            tube_bbox = bbox[:-1]\n",
        "            break\n",
        "        frame_list.append(frame)\n",
        "\n",
        "    print(tube_bbox)\n",
        "    tube_bbox = compute_aspect_preserved_bbox(tube_bbox, 0.1)\n",
        "    # print('increased: ' + ', '.join(tube_bbox))\n",
        "    left, top, right, bot= tube_bbox\n",
        "    w = int(right - left)\n",
        "    h = int(bot - top)\n",
        "    !ffmpeg -y -loglevel warning -hide_banner -i \"{video_path}\" -filter:v \"crop={w}:{h}:{left}:{top},scale=256:256\" -async 1 \"{output_filename}\"\n",
        "    # print(subprocess.getoutput(['ffmpeg', '-y', '-loglevel', 'debug', '-hide_banner', '-i', video_path, '-filter:v', f'crop={w}:{h}:{left}:{top},scale=256:256', '-async', '1', output_filename]))"
      ],
      "execution_count": 0,
      "outputs": []
    },
    {
      "cell_type": "markdown",
      "metadata": {
        "colab_type": "text",
        "id": "PEzYU-0DiHag"
      },
      "source": [
        "# 🎬 Célula 1 - Vídeo\n"
      ]
    },
    {
      "cell_type": "code",
      "metadata": {
        "colab_type": "code",
        "id": "gyU01vzBiHac",
        "outputId": "e912cdaf-1f21-471f-a03a-4955e7ff6af5",
        "colab": {
          "base_uri": "https://localhost:8080/",
          "height": 168
        }
      },
      "source": [
        "from google.colab import files\n",
        "uploaded = files.upload()\n",
        "\n",
        "SOURCE_VIDEO_FILENAME = \"\"\n",
        "for name, data in uploaded.items():\n",
        "  with open(name, 'wb') as f:\n",
        "    f.write(data)\n",
        "    print ('saved file', name)\n",
        "    SOURCE_VIDEO_FILENAME = name"
      ],
      "execution_count": 0,
      "outputs": [
        {
          "output_type": "execute_result",
          "data": {
            "text/html": [
              "\n",
              "<h2>Aguarde que vai aparecer aqui pedindo pra escolher o vídeo</h2>\n",
              "<img src='http://24.media.tumblr.com/f6fa14db0bd0917dd2bef4f9760ac153/tumblr_n679m8IRSa1r2geqjo1_500.gif' width=100 />\n"
            ],
            "text/plain": [
              "<IPython.core.display.HTML object>"
            ]
          },
          "metadata": {
            "tags": []
          },
          "execution_count": 34
        }
      ]
    },
    {
      "cell_type": "markdown",
      "metadata": {
        "colab_type": "text",
        "id": "KbNn1OpaiHac"
      },
      "source": [
        "# 📸 Célula 2 - imagem a ser animada"
      ]
    },
    {
      "cell_type": "code",
      "metadata": {
        "colab_type": "code",
        "id": "p-29lohmiHaY",
        "outputId": "3848638d-46e6-422b-e00c-07881a25724f",
        "colab": {
          "base_uri": "https://localhost:8080/",
          "height": 168
        }
      },
      "source": [
        "uploaded = files.upload()\n",
        "\n",
        "SOURCE_IMAGE_FILENAME = \"\"\n",
        "for name, data in uploaded.items():\n",
        "  with open(name, 'wb') as f:\n",
        "    f.write(data)\n",
        "    print ('saved file', name)\n",
        "    SOURCE_IMAGE_FILENAME = name\n",
        "\n",
        "from autocrop import Cropper\n",
        "cropper = Cropper(width=256, height=256, face_percent=70)\n",
        "\n",
        "source_image = cropper.crop(SOURCE_IMAGE_FILENAME)"
      ],
      "execution_count": 0,
      "outputs": [
        {
          "output_type": "execute_result",
          "data": {
            "text/html": [
              "\n",
              "<h2>Aguarde que vai aparecer aqui pedindo pra escolher a imagem</h2>\n",
              "<img src='http://24.media.tumblr.com/f6fa14db0bd0917dd2bef4f9760ac153/tumblr_n679m8IRSa1r2geqjo1_500.gif' width=100 />\n"
            ],
            "text/plain": [
              "<IPython.core.display.HTML object>"
            ]
          },
          "metadata": {
            "tags": []
          },
          "execution_count": 32
        }
      ]
    },
    {
      "cell_type": "markdown",
      "metadata": {
        "id": "acXeYaG7l7fC",
        "colab_type": "text"
      },
      "source": [
        "# Agora o processamento é feito automático"
      ]
    },
    {
      "cell_type": "code",
      "metadata": {
        "colab_type": "code",
        "id": "382DDdhyiHaU",
        "colab": {}
      },
      "source": [
        "process_video(SOURCE_VIDEO_FILENAME, 'croppped_driver.mp4')\n",
        "# from IPython.display import HTML\n",
        "# from base64 import b64encode\n",
        "# mp4 = open('croppped_driver.mp4','rb').read()\n",
        "# data_url = \"data:video/mp4;base64,\" + b64encode(mp4).decode()\n",
        "# HTML(\"\"\"\n",
        "# <video controls>\n",
        "#       <source src=\"%s\" type=\"video/mp4\">\n",
        "# </video>\n",
        "# \"\"\" % data_url)"
      ],
      "execution_count": 0,
      "outputs": []
    },
    {
      "cell_type": "code",
      "metadata": {
        "id": "leHZsN_NjE6Q",
        "colab_type": "code",
        "colab": {}
      },
      "source": [
        "import imageio\n",
        "import numpy as np\n",
        "import matplotlib.pyplot as plt\n",
        "import matplotlib.animation as animation\n",
        "from skimage.transform import resize\n",
        "from IPython.display import HTML\n",
        "import warnings\n",
        "warnings.filterwarnings(\"ignore\")\n",
        "reader = imageio.get_reader('croppped_driver.mp4')\n",
        "FPS = reader.get_meta_data()['fps']\n",
        "reader.close()\n",
        "# source_image = imageio.imread('/content/gdrive/My Drive/deep/magno.png')\n",
        "driving_video = imageio.mimread('croppped_driver.mp4')\n",
        "\n",
        "\n",
        "#Resize image and video to 256x256\n",
        "\n",
        "source_image = resize(source_image, (256, 256))[..., :3]\n",
        "driving_video = [resize(frame, (256, 256))[..., :3] for frame in driving_video]\n",
        "\n",
        "def display(source, driving, generated=None):\n",
        "    fig = plt.figure(figsize=(8 + 4 * (generated is not None), 6))\n",
        "\n",
        "    ims = []\n",
        "    for i in range(len(driving)):\n",
        "        cols = [source]\n",
        "        cols.append(driving[i])\n",
        "        if generated is not None:\n",
        "            cols.append(generated[i])\n",
        "        im = plt.imshow(np.concatenate(cols, axis=1), animated=True)\n",
        "        plt.axis('off')\n",
        "        ims.append([im])\n",
        "\n",
        "    ani = animation.ArtistAnimation(fig, ims, interval=50, repeat_delay=1000)\n",
        "    plt.close()\n",
        "    return ani\n",
        "    \n",
        "\n",
        "HTML(display(source_image, driving_video).to_html5_video())"
      ],
      "execution_count": 0,
      "outputs": []
    },
    {
      "cell_type": "code",
      "metadata": {
        "id": "Oglach-0i6sw",
        "colab_type": "code",
        "colab": {}
      },
      "source": [
        "from demo import make_animation\n",
        "from skimage import img_as_ubyte\n",
        "\n",
        "predictions = make_animation(source_image, driving_video, generator, kp_detector, relative=True)\n",
        "\n",
        "#save resulting video\n",
        "imageio.mimsave('../generated.mp4', [img_as_ubyte(frame) for frame in predictions], fps=FPS)\n",
        "#video can be downloaded from /content folder\n",
        "\n",
        "HTML(display(source_image, driving_video, predictions).to_html5_video())"
      ],
      "execution_count": 0,
      "outputs": []
    },
    {
      "cell_type": "code",
      "metadata": {
        "id": "MFrwjB_Tiuds",
        "colab_type": "code",
        "colab": {}
      },
      "source": [
        ""
      ],
      "execution_count": 0,
      "outputs": []
    },
    {
      "cell_type": "markdown",
      "metadata": {
        "colab_type": "text",
        "id": "XvvUPNhLiHZ6"
      },
      "source": [
        "**Create final video**"
      ]
    },
    {
      "cell_type": "code",
      "metadata": {
        "colab_type": "code",
        "id": "4snWpHG4iHZo",
        "colab": {}
      },
      "source": [
        "!ffmpeg \\\n",
        "-hide_banner \\\n",
        "-y \\\n",
        "-loglevel warning \\\n",
        "-i ../generated.mp4 \\\n",
        "-i croppped_driver.mp4 \\\n",
        "-filter_complex  \"[0:v]setpts=1/3*PTS,pad=iw*2:ih[int];[int][1:v]overlay=W/2:0[vid]\" \\\n",
        "-map '[vid]' -map 1:a:0  \\\n",
        "-c:v h264 -c:a copy -y complete.mp4"
      ],
      "execution_count": 0,
      "outputs": []
    },
    {
      "cell_type": "markdown",
      "metadata": {
        "id": "hsPiryhImEFb",
        "colab_type": "text"
      },
      "source": [
        "# RESULTADO"
      ]
    },
    {
      "cell_type": "code",
      "metadata": {
        "colab_type": "code",
        "outputId": "f8d8ae23-60a8-48cc-c1ba-2f393108c89e",
        "id": "-DaTTihMiHZZ",
        "colab": {
          "base_uri": "https://localhost:8080/",
          "height": 74
        }
      },
      "source": [
        "mp4 = open('complete.mp4','rb').read()\n",
        "data_url = \"data:video/mp4;base64,\" + b64encode(mp4).decode()\n",
        "HTML(\"\"\"\n",
        "<video controls>\n",
        "      <source src=\"%s\" type=\"video/mp4\">\n",
        "</video>\n",
        "<br /><h1><a target=\"_blank\" href=\"%s\" download=\"deep_fake.mp4\">➡️Clique aqui para o resultado.⬅️</a><h1>\n",
        "\"\"\" % (data_url, data_url))"
      ],
      "execution_count": 0,
      "outputs": [
        {
          "output_type": "execute_result",
          "data": {
            "text/html": [
              "\n",
              "<h1>Aguarde o resultado. Processando<blink>...</blink>\n"
            ],
            "text/plain": [
              "<IPython.core.display.HTML object>"
            ]
          },
          "metadata": {
            "tags": []
          },
          "execution_count": 27
        }
      ]
    },
    {
      "cell_type": "markdown",
      "metadata": {
        "id": "9L4lizuglDM_",
        "colab_type": "text"
      },
      "source": [
        "# ⬆️⬆️ Clique no link acima ⬆️⬆️ para fazer o download do resultado⬆️⬆️"
      ]
    },
    {
      "cell_type": "code",
      "metadata": {
        "id": "aRjhkNgalFsC",
        "colab_type": "code",
        "colab": {}
      },
      "source": [
        ""
      ],
      "execution_count": 0,
      "outputs": []
    }
  ]
}