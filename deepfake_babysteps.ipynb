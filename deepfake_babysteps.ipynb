{
  "nbformat": 4,
  "nbformat_minor": 0,
  "metadata": {
    "colab": {
      "name": "deepfake demo.ipynb",
      "provenance": [],
      "collapsed_sections": [
        "cdO_RxQZLahB",
        "acXeYaG7l7fC"
      ],
      "include_colab_link": true
    },
    "kernelspec": {
      "name": "python3",
      "display_name": "Python 3"
    },
    "accelerator": "GPU"
  },
  "cells": [
    {
      "cell_type": "markdown",
      "metadata": {
        "id": "view-in-github",
        "colab_type": "text"
      },
      "source": [
        "<a href=\"https://colab.research.google.com/github/weltonrodrigo/first-order-model/blob/master/deepfake_babysteps.ipynb\" target=\"_parent\"><img src=\"https://colab.research.google.com/assets/colab-badge.svg\" alt=\"Open In Colab\"/></a>"
      ]
    },
    {
      "cell_type": "markdown",
      "metadata": {
        "id": "j6Bx409rmMSR",
        "colab_type": "text"
      },
      "source": [
        "💖 funciona em qualquer browser.\n",
        "# <- Clica nessa pastinha aí (🗂) para abrir os arquivos \n",
        "\n",
        "<h2>Arrasta pra dentro dois arquivos, um chamado video.mp4 e o outro chamado foto.jpg</h2>\n",
        "Não importa o formato do arquivo, só coloca eles com o nome video.mp4 e foto.jpg\n",
        "\n",
        "Para gerar seu deepfake, você só precisa:\n",
        "\n",
        "1.   Ir no menu **Runtime -> Run all**\n",
        "2.   Aguardar o resultado ficar pronto, no [<h2>🥌 final da página</h2>](#scrollTo=6pwxZtBCGBJB).\n"
      ]
    },
    {
      "cell_type": "markdown",
      "metadata": {
        "id": "cdO_RxQZLahB",
        "colab_type": "text"
      },
      "source": [
        "# Um monte de coisa preparada antes que você não precisa mexer."
      ]
    },
    {
      "cell_type": "code",
      "metadata": {
        "id": "FTh0Bxr-ll-f",
        "colab_type": "code",
        "colab": {
          "base_uri": "https://localhost:8080/",
          "height": 411
        },
        "outputId": "8e01e9cf-9ff8-4aa3-b5ec-82313495ba43"
      },
      "source": [
        "!pip install face_alignment imageio-ffmpeg"
      ],
      "execution_count": 1,
      "outputs": [
        {
          "output_type": "stream",
          "text": [
            "Collecting face_alignment\n",
            "  Downloading https://files.pythonhosted.org/packages/20/86/26baa3888c254c9ce284702a1041cf9a533ad91c873b06f74d3cfa23aff7/face_alignment-1.0.0-py2.py3-none-any.whl\n",
            "Collecting imageio-ffmpeg\n",
            "\u001b[?25l  Downloading https://files.pythonhosted.org/packages/0a/45/2472071095310b3e92010c051cbd2e3c655247ad9090851a86b8bfdcfbc5/imageio_ffmpeg-0.4.1-py3-none-manylinux2010_x86_64.whl (22.2MB)\n",
            "\u001b[K     |████████████████████████████████| 22.2MB 132kB/s \n",
            "\u001b[?25hRequirement already satisfied: numpy in /usr/local/lib/python3.6/dist-packages (from face_alignment) (1.18.2)\n",
            "Requirement already satisfied: opencv-python in /usr/local/lib/python3.6/dist-packages (from face_alignment) (4.1.2.30)\n",
            "Requirement already satisfied: scipy>=0.17 in /usr/local/lib/python3.6/dist-packages (from face_alignment) (1.4.1)\n",
            "Requirement already satisfied: tqdm in /usr/local/lib/python3.6/dist-packages (from face_alignment) (4.38.0)\n",
            "Requirement already satisfied: scikit-image in /usr/local/lib/python3.6/dist-packages (from face_alignment) (0.16.2)\n",
            "Requirement already satisfied: torch in /usr/local/lib/python3.6/dist-packages (from face_alignment) (1.4.0)\n",
            "Requirement already satisfied: imageio>=2.3.0 in /usr/local/lib/python3.6/dist-packages (from scikit-image->face_alignment) (2.4.1)\n",
            "Requirement already satisfied: networkx>=2.0 in /usr/local/lib/python3.6/dist-packages (from scikit-image->face_alignment) (2.4)\n",
            "Requirement already satisfied: pillow>=4.3.0 in /usr/local/lib/python3.6/dist-packages (from scikit-image->face_alignment) (7.0.0)\n",
            "Requirement already satisfied: matplotlib!=3.0.0,>=2.0.0 in /usr/local/lib/python3.6/dist-packages (from scikit-image->face_alignment) (3.2.1)\n",
            "Requirement already satisfied: PyWavelets>=0.4.0 in /usr/local/lib/python3.6/dist-packages (from scikit-image->face_alignment) (1.1.1)\n",
            "Requirement already satisfied: decorator>=4.3.0 in /usr/local/lib/python3.6/dist-packages (from networkx>=2.0->scikit-image->face_alignment) (4.4.2)\n",
            "Requirement already satisfied: pyparsing!=2.0.4,!=2.1.2,!=2.1.6,>=2.0.1 in /usr/local/lib/python3.6/dist-packages (from matplotlib!=3.0.0,>=2.0.0->scikit-image->face_alignment) (2.4.6)\n",
            "Requirement already satisfied: cycler>=0.10 in /usr/local/lib/python3.6/dist-packages (from matplotlib!=3.0.0,>=2.0.0->scikit-image->face_alignment) (0.10.0)\n",
            "Requirement already satisfied: kiwisolver>=1.0.1 in /usr/local/lib/python3.6/dist-packages (from matplotlib!=3.0.0,>=2.0.0->scikit-image->face_alignment) (1.2.0)\n",
            "Requirement already satisfied: python-dateutil>=2.1 in /usr/local/lib/python3.6/dist-packages (from matplotlib!=3.0.0,>=2.0.0->scikit-image->face_alignment) (2.8.1)\n",
            "Requirement already satisfied: six in /usr/local/lib/python3.6/dist-packages (from cycler>=0.10->matplotlib!=3.0.0,>=2.0.0->scikit-image->face_alignment) (1.12.0)\n",
            "Installing collected packages: face-alignment, imageio-ffmpeg\n",
            "Successfully installed face-alignment-1.0.0 imageio-ffmpeg-0.4.1\n"
          ],
          "name": "stdout"
        }
      ]
    },
    {
      "cell_type": "code",
      "metadata": {
        "id": "TmFvbfm4ifsY",
        "colab_type": "code",
        "colab": {
          "base_uri": "https://localhost:8080/",
          "height": 131
        },
        "outputId": "53e7aef0-99f0-4494-9e24-03b78149fd00"
      },
      "source": [
        "!rm -rf first-order-model\n",
        "!git clone https://github.com/AliaksandrSiarohin/first-order-model\n"
      ],
      "execution_count": 2,
      "outputs": [
        {
          "output_type": "stream",
          "text": [
            "Cloning into 'first-order-model'...\n",
            "remote: Enumerating objects: 25, done.\u001b[K\n",
            "remote: Counting objects: 100% (25/25), done.\u001b[K\n",
            "remote: Compressing objects: 100% (20/20), done.\u001b[K\n",
            "remote: Total 186 (delta 12), reused 11 (delta 5), pack-reused 161\u001b[K\n",
            "Receiving objects: 100% (186/186), 58.16 MiB | 25.11 MiB/s, done.\n",
            "Resolving deltas: 100% (89/89), done.\n"
          ],
          "name": "stdout"
        }
      ]
    },
    {
      "cell_type": "code",
      "metadata": {
        "id": "V8aJLgmEkNlY",
        "colab_type": "code",
        "colab": {
          "base_uri": "https://localhost:8080/",
          "height": 32
        },
        "outputId": "668399c8-f729-49dc-8bb8-42926082d022"
      },
      "source": [
        "cd /content/first-order-model"
      ],
      "execution_count": 3,
      "outputs": [
        {
          "output_type": "stream",
          "text": [
            "/content/first-order-model\n"
          ],
          "name": "stdout"
        }
      ]
    },
    {
      "cell_type": "code",
      "metadata": {
        "id": "HmUmOrOLiqjR",
        "colab_type": "code",
        "colab": {
          "base_uri": "https://localhost:8080/",
          "height": 82
        },
        "outputId": "91072914-81de-4c60-81ef-340ce5f4e035"
      },
      "source": [
        "!curl -C - -L https://1drv.ws/u/s!AsP1keFmL5J8gZQO3oDQHOXnDS3_qA?e=RpmJNJ -o vox-cpk.pth.tar"
      ],
      "execution_count": 4,
      "outputs": [
        {
          "output_type": "stream",
          "text": [
            "  % Total    % Received % Xferd  Average Speed   Time    Time     Time  Current\n",
            "                                 Dload  Upload   Total   Spent    Left  Speed\n",
            "  0     0    0     0    0     0      0      0 --:--:--  0:00:02 --:--:--     0\n",
            "100  695M  100  695M    0     0  11.7M      0  0:00:58  0:00:58 --:--:-- 5970k\n"
          ],
          "name": "stdout"
        }
      ]
    },
    {
      "cell_type": "code",
      "metadata": {
        "id": "W55D_MYxINU1",
        "colab_type": "code",
        "colab": {}
      },
      "source": [
        "from argparse import ArgumentParser\n",
        "from base64 import b64encode\n",
        "from demo import load_checkpoints, make_animation\n",
        "from IPython.display import HTML\n",
        "from multiprocessing import Process\n",
        "from PIL import Image \n",
        "from skimage import img_as_ubyte, io\n",
        "from skimage.transform import resize\n",
        "from tqdm import tqdm\n",
        "import face_alignment\n",
        "import glob\n",
        "import imageio\n",
        "import matplotlib.animation as animation\n",
        "import matplotlib.pyplot as plt\n",
        "%matplotlib inline\n",
        "import numpy as np\n",
        "import os\n",
        "import pandas as pd\n",
        "import subprocess\n",
        "import sys\n",
        "import warnings\n",
        "warnings.filterwarnings(\"ignore\")"
      ],
      "execution_count": 0,
      "outputs": []
    },
    {
      "cell_type": "code",
      "metadata": {
        "id": "htFWHk65ixaT",
        "colab_type": "code",
        "colab": {}
      },
      "source": [
        "generator, kp_detector = load_checkpoints(config_path='config/vox-256.yaml', checkpoint_path='vox-cpk.pth.tar')"
      ],
      "execution_count": 0,
      "outputs": []
    },
    {
      "cell_type": "code",
      "metadata": {
        "colab_type": "code",
        "id": "gyU01vzBiHac",
        "colab": {}
      },
      "source": [
        "SOURCE_VIDEO_FILENAME = \"/content/video.mp4\""
      ],
      "execution_count": 0,
      "outputs": []
    },
    {
      "cell_type": "code",
      "metadata": {
        "colab_type": "code",
        "id": "p-29lohmiHaY",
        "colab": {}
      },
      "source": [
        "SOURCE_IMAGE_FILENAME = \"/content/foto.jpg\""
      ],
      "execution_count": 0,
      "outputs": []
    },
    {
      "cell_type": "code",
      "metadata": {
        "id": "YC6JyS1iu89V",
        "colab_type": "code",
        "colab": {}
      },
      "source": [
        "def compute_bbox(tube_bbox, frame_shape, increase_area=0.1):\n",
        "    left, top, right, bot, _ = tube_bbox\n",
        "    width = right - left\n",
        "    height = bot - top \n",
        "\n",
        "    #Computing aspect preserving bbox \n",
        "    width_increase = max(increase_area, ((1 + 2 * increase_area) * height - width) / (2 * width))\n",
        "    height_increase = max(increase_area, ((1 + 2 * increase_area) * width - height) / (2 * height))\n",
        "\n",
        "    left = int(left - width_increase * width)\n",
        "    top = int(top - height_increase * height)\n",
        "    right = int(right + width_increase * width)\n",
        "    bot = int(bot + height_increase * height)\n",
        "\n",
        "    top, bot, left, right = max(0, top), min(bot, frame_shape[0]), max(0, left), min(right, frame_shape[1])\n",
        "    h, w = bot - top, right - left\n",
        "\n",
        "    # print (f'-filter:v \"crop={w}:{h}:{left}:{top}\"')\n",
        "    return (left, top, right, bot)"
      ],
      "execution_count": 0,
      "outputs": []
    },
    {
      "cell_type": "code",
      "metadata": {
        "id": "uQY4f__weyFd",
        "colab_type": "code",
        "colab": {}
      },
      "source": [
        "image = io.imread(SOURCE_IMAGE_FILENAME)\n",
        "\n",
        "fa = face_alignment.FaceAlignment(face_alignment.LandmarksType._2D, flip_input=False, device='cuda')\n",
        "bboxes = fa.face_detector.detect_from_image(image[..., :3])"
      ],
      "execution_count": 0,
      "outputs": []
    },
    {
      "cell_type": "code",
      "metadata": {
        "id": "OUCzprxRjuIB",
        "colab_type": "code",
        "colab": {}
      },
      "source": [
        "# image = io.imread(SOURCE_IMAGE_FILENAME)\n",
        "\n",
        "# fa = face_alignment.FaceAlignment(face_alignment.LandmarksType._2D, flip_input=False, device='cuda')\n",
        "# bboxes = fa.face_detector.detect_from_image(image[..., :3])\n",
        "\n",
        "(left, top, right, bot) = compute_bbox(bboxes[0], image.shape[0:2], increase_area=0.2)\n",
        "\n",
        "source_image = image[top:bot,left:right,:]\n",
        "\n",
        "io.imsave(\"cropped_image.png\", source_image)\n",
        "# plt.imshow(source_image)"
      ],
      "execution_count": 0,
      "outputs": []
    },
    {
      "cell_type": "code",
      "metadata": {
        "id": "2ChTUuGWe6PI",
        "colab_type": "code",
        "colab": {
          "base_uri": "https://localhost:8080/",
          "height": 32
        },
        "outputId": "58ed55e0-2d95-4ee0-8012-4122d536e4fa"
      },
      "source": [
        "(left, top, right, bot)"
      ],
      "execution_count": 26,
      "outputs": [
        {
          "output_type": "execute_result",
          "data": {
            "text/plain": [
              "(585, 796, 1365, 1576)"
            ]
          },
          "metadata": {
            "tags": []
          },
          "execution_count": 26
        }
      ]
    },
    {
      "cell_type": "code",
      "metadata": {
        "id": "ZvWk0l0y6Hok",
        "colab_type": "code",
        "colab": {}
      },
      "source": [
        "%%capture --no-stderr --no-display FFMPEG_COMMAND\n",
        "!python crop-video.py --inp $SOURCE_VIDEO_FILENAME --increase=0.2 2>&1 | grep ffmpeg"
      ],
      "execution_count": 0,
      "outputs": []
    },
    {
      "cell_type": "code",
      "metadata": {
        "id": "2urM0wNr7hpy",
        "colab_type": "code",
        "colab": {}
      },
      "source": [
        "LESS_VERBOSE = FFMPEG_COMMAND.stdout.replace('ffmpeg', 'ffmpeg -hide_banner -loglevel warning -y ')\n",
        "!$LESS_VERBOSE"
      ],
      "execution_count": 0,
      "outputs": []
    },
    {
      "cell_type": "code",
      "metadata": {
        "id": "leHZsN_NjE6Q",
        "colab_type": "code",
        "colab": {}
      },
      "source": [
        "reader = imageio.get_reader('crop.mp4')\n",
        "FPS = reader.get_meta_data()['fps']\n",
        "reader.close()\n",
        "\n",
        "driving_video = imageio.mimread('crop.mp4')\n",
        "\n",
        "\n",
        "source_image = resize(source_image, (256, 256))[..., :3]\n",
        "driving_video = [resize(frame, (256, 256))[..., :3] for frame in driving_video]\n",
        "\n",
        "def display(source, driving, generated=None):\n",
        "    fig = plt.figure(figsize=(8 + 4 * (generated is not None), 6))\n",
        "\n",
        "    ims = []\n",
        "    for i in range(len(driving)):\n",
        "        cols = [source]\n",
        "        cols.append(driving[i])\n",
        "        if generated is not None:\n",
        "            cols.append(generated[i])\n",
        "        im = plt.imshow(np.concatenate(cols, axis=1), animated=True)\n",
        "        plt.axis('off')\n",
        "        ims.append([im])\n",
        "\n",
        "    ani = animation.ArtistAnimation(fig, ims, interval=50, repeat_delay=1000)\n",
        "    plt.close()\n",
        "    return ani\n",
        "    \n",
        "\n",
        "HTML(display(source_image, driving_video).to_html5_video())"
      ],
      "execution_count": 0,
      "outputs": []
    },
    {
      "cell_type": "code",
      "metadata": {
        "id": "w2vOp3PfGzSz",
        "colab_type": "code",
        "colab": {
          "base_uri": "https://localhost:8080/",
          "height": 49
        },
        "outputId": "9e9cfe01-b6a5-4eef-dfbd-d3c315e2e35e"
      },
      "source": [
        "predictions = make_animation(source_image, driving_video, generator, kp_detector, relative=True)\n",
        "imageio.mimsave('/content/generated-relative.mp4', [img_as_ubyte(frame) for frame in predictions], fps=FPS)\n",
        "\n",
        "predictions = make_animation(source_image, driving_video, generator, kp_detector, relative=False, adapt_movement_scale=True)\n",
        "imageio.mimsave('/content/generated-absolute.mp4', [img_as_ubyte(frame) for frame in predictions], fps=FPS)"
      ],
      "execution_count": 14,
      "outputs": [
        {
          "output_type": "stream",
          "text": [
            "100%|██████████| 269/269 [00:11<00:00, 23.78it/s]\n",
            "100%|██████████| 269/269 [00:10<00:00, 25.81it/s]\n"
          ],
          "name": "stderr"
        }
      ]
    },
    {
      "cell_type": "code",
      "metadata": {
        "id": "Lbu-F5AfG1IN",
        "colab_type": "code",
        "colab": {}
      },
      "source": [
        "%%bash\n",
        "ffmpeg \\\n",
        "-hide_banner \\\n",
        "-y \\\n",
        "-loglevel error \\\n",
        "-i cropped_image.png \\\n",
        "-hwaccel cuvid \\\n",
        "-i crop.mp4 \\\n",
        "-i /content/generated-relative.mp4 \\\n",
        "-i https://i.ibb.co/x2ndW9G/disclaimer.png \\\n",
        "-async 1 \\\n",
        "-filter_complex  \"\n",
        "nullsrc=size=768x256                  [bg];\n",
        "[0]scale=256:256                      [srcimg];\n",
        "[3]format=bgra,colorchannelmixer=aa=0.5 [disclaimer];\n",
        "[bg][srcimg]       overlay            [bg+srcimg];\n",
        "[bg+srcimg][1:v]   overlay=x=256:shortest=1      [left+middle];\n",
        "[left+middle][2]   overlay=x=512      [left+middle+right];\n",
        "[left+middle+right][disclaimer]overlay=x=512 [resultado]  \n",
        "\" \\\n",
        "-map '[resultado]' -map 1:a:0  \\\n",
        "-c:v h264 -preset veryslow  -c:a copy -metadata title=\"https://bit.ly/2Vars0s\" -y /content/complete-relative.mp4;\n",
        "\n"
      ],
      "execution_count": 0,
      "outputs": []
    },
    {
      "cell_type": "code",
      "metadata": {
        "id": "PPKHVr-dZXA-",
        "colab_type": "code",
        "colab": {}
      },
      "source": [
        "%%bash\n",
        "ffmpeg \\\n",
        "-hide_banner \\\n",
        "-y \\\n",
        "-loglevel error \\\n",
        "-i cropped_image.png \\\n",
        "-hwaccel cuvid \\\n",
        "-i crop.mp4 \\\n",
        "-i /content/generated-absolute.mp4 \\\n",
        "-i https://i.ibb.co/x2ndW9G/disclaimer.png \\\n",
        "-async 1 \\\n",
        "-filter_complex  \"\n",
        "nullsrc=size=768x256                  [bg];\n",
        "[0]scale=256:256                      [srcimg];\n",
        "[3]format=bgra,colorchannelmixer=aa=0.5 [disclaimer];\n",
        "[bg][srcimg]       overlay            [bg+srcimg];\n",
        "[bg+srcimg][1:v]   overlay=x=256:shortest=1      [left+middle];\n",
        "[left+middle][2]   overlay=x=512      [left+middle+right];\n",
        "[left+middle+right][disclaimer]overlay=x=512 [resultado]   \n",
        "\" \\\n",
        "-map '[resultado]' -map 1:a:0  \\\n",
        "-c:v h264 -preset veryslow  -c:a copy -y -metadata title=\"https://bit.ly/2Vars0s\" /content/complete-absolute.mp4;"
      ],
      "execution_count": 0,
      "outputs": []
    },
    {
      "cell_type": "code",
      "metadata": {
        "id": "JKvt813yI78a",
        "colab_type": "code",
        "colab": {}
      },
      "source": [
        "relative = open('/content/complete-relative.mp4','rb').read()\n",
        "data_url_relative = \"data:video/mp4;base64,\" + b64encode(relative).decode()\n",
        "\n",
        "absolute = open('/content/complete-absolute.mp4','rb').read()\n",
        "data_url_absolute = \"data:video/mp4;base64,\" + b64encode(absolute).decode()"
      ],
      "execution_count": 0,
      "outputs": []
    },
    {
      "cell_type": "markdown",
      "metadata": {
        "id": "hsPiryhImEFb",
        "colab_type": "text"
      },
      "source": [
        "# RESULTADO"
      ]
    },
    {
      "cell_type": "code",
      "metadata": {
        "id": "6pwxZtBCGBJB",
        "colab_type": "code",
        "colab": {}
      },
      "source": [
        "HTML(\"\"\"\n",
        "<video controls=\"controls\" autoplay=\"autoplay\">\n",
        "      <source src=\"%s\" type=\"video/mp4\">\n",
        "</video>\n",
        "<br /><h1><a target=\"_blank\" href=\"%s\" download=\"deep_fake_relativo.mp4\">➡️Clique aqui baixar para o resultado relativo.⬅️</a><h1>\n",
        "<video controls=\"controls\" autoplay=\"autoplay\">\n",
        "      <source src=\"%s\" type=\"video/mp4\">\n",
        "</video>\n",
        "<br /><h1><a target=\"_blank\" href=\"%s\" download=\"deep_fake_absoluto.mp4\">➡️Clique aqui baixar para o resultado absoluto.⬅️</a><h1>\n",
        "\"\"\" % (data_url_relative, data_url_relative, data_url_absolute, data_url_absolute))"
      ],
      "execution_count": 0,
      "outputs": []
    },
    {
      "cell_type": "code",
      "metadata": {
        "id": "YLpjGFd1SwD8",
        "colab_type": "code",
        "colab": {}
      },
      "source": [
        ""
      ],
      "execution_count": 0,
      "outputs": []
    }
  ]
}