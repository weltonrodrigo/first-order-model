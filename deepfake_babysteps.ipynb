{
  "nbformat": 4,
  "nbformat_minor": 0,
  "metadata": {
    "colab": {
      "name": "deepfake demo.ipynb",
      "provenance": [],
      "collapsed_sections": [
        "cdO_RxQZLahB",
        "acXeYaG7l7fC"
      ],
      "toc_visible": true,
      "include_colab_link": true
    },
    "kernelspec": {
      "name": "python3",
      "display_name": "Python 3"
    },
    "accelerator": "GPU"
  },
  "cells": [
    {
      "cell_type": "markdown",
      "metadata": {
        "id": "view-in-github",
        "colab_type": "text"
      },
      "source": [
        "<a href=\"https://colab.research.google.com/github/weltonrodrigo/first-order-model/blob/master/deepfake_babysteps.ipynb\" target=\"_parent\"><img src=\"https://colab.research.google.com/assets/colab-badge.svg\" alt=\"Open In Colab\"/></a>"
      ]
    },
    {
      "cell_type": "markdown",
      "metadata": {
        "id": "j6Bx409rmMSR",
        "colab_type": "text"
      },
      "source": [
        "💖 funciona em qualquer browser.\n",
        "# <- Clica nessa pastinha aí (🗂) para abrir os arquivos \n",
        "\n",
        "<h2>Arrasta pra dentro dois arquivos, um chamado video.mp4 e o outro chamado foto.jpg</h2>\n",
        "Não importa o formato do arquivo, só coloca eles com o nome video.mp4 e foto.jpg\n",
        "\n",
        "Para gerar seu deepfake, você só precisa:\n",
        "\n",
        "1.   Ir no menu **Runtime -> Run all**\n",
        "2.   Aguardar o resultado ficar pronto, no [<em>🥌 final da página</em>](#scrollTo=6pwxZtBCGBJB)\n",
        "\n",
        "Este caderno é baseado no original [Demo for paper \"First Order Motion Model for Image Animation\"](https://colab.research.google.com/github/AliaksandrSiarohin/first-order-model/blob/master/demo.ipynb#scrollTo=cdO_RxQZLahB) \n",
        "\n",
        "### Dicas para um bom resultado:\n",
        "\n",
        "- O corte automático às vezes não funciona bem, se você puder, use uma foto já\n",
        "cortada, 256 por 256 pixels, do pescoço pra cima, sem mostrar muito os ombros. Foi com esse tipo de foto que o modelo foi treinado, então o desempenho é melhor com fotos parecidas.\n",
        "- O ideial é o video tb ter essas características e começar com uma expressão parecida com a da foto. Você pode imitar a pessoa da foto e depois se movimentar para falar ou fazer o que quiser, depois editar o resultado.\n",
        "- Vídeo com o rosto claro, bem iluminado.\n",
        "- Fotos onde há uma boa diferença entre a pessoa e o fundo.\n",
        "- Fotos onde a pessoa está numa expressão neutra.\n",
        "\n",
        "Exemplo de foto cortada adequadamente:\n",
        "\n",
        "<img src=\"https://i.stack.imgur.com/ds7Pc.png\" alt=\"Foto bem fechada no rosto\" width=\"256\"/>\n",
        "\n",
        "\n",
        "Tutorial: https://youtu.be/o6o0aLHt734\n",
        "\n",
        "\n",
        "---"
      ]
    },
    {
      "cell_type": "markdown",
      "metadata": {
        "id": "6j6j_SFAMlu8",
        "colab_type": "text"
      },
      "source": [
        "### Download da rede neural pré-treinada. \n",
        "Isso deve levar uns 4 minutos quando rodar a primeira vez."
      ]
    },
    {
      "cell_type": "code",
      "metadata": {
        "id": "HmUmOrOLiqjR",
        "colab_type": "code",
        "colab": {}
      },
      "source": [
        "!curl -C - -L https://1drv.ws/u/s!AsP1keFmL5J8gZkisFuiF-Yecx8YIQ?e=xjKj3u  -o /content/vox-adv-cpk.pth.tar"
      ],
      "execution_count": 0,
      "outputs": []
    },
    {
      "cell_type": "markdown",
      "metadata": {
        "id": "cdO_RxQZLahB",
        "colab_type": "text"
      },
      "source": [
        "# Um monte de coisa preparada antes que você não precisa mexer."
      ]
    },
    {
      "cell_type": "markdown",
      "metadata": {
        "id": "amG8lZcySr5F",
        "colab_type": "text"
      },
      "source": [
        "### Variáveis interessantes"
      ]
    },
    {
      "cell_type": "code",
      "metadata": {
        "id": "74oQrba5Squ1",
        "colab_type": "code",
        "colab": {}
      },
      "source": [
        "# Quando um rosto é encontrado na foto ou no vídeo, a área recortada é aumentada\n",
        "# nessa porcentagem. Aumente para diminuir o zoom, Diminua para um zoom menor\n",
        "INCREASE = 0.1"
      ],
      "execution_count": 0,
      "outputs": []
    },
    {
      "cell_type": "markdown",
      "metadata": {
        "id": "QaZNA5T7Tfe9",
        "colab_type": "text"
      },
      "source": [
        "### Processamento"
      ]
    },
    {
      "cell_type": "code",
      "metadata": {
        "id": "FTh0Bxr-ll-f",
        "colab_type": "code",
        "colab": {}
      },
      "source": [
        "!pip install face_alignment imageio-ffmpeg"
      ],
      "execution_count": 0,
      "outputs": []
    },
    {
      "cell_type": "code",
      "metadata": {
        "id": "TmFvbfm4ifsY",
        "colab_type": "code",
        "colab": {}
      },
      "source": [
        "%cd /content\n",
        "!rm -rf /content/first-order-model\n",
        "!mkdir -p /content/first-order-model\n",
        "!git clone https://github.com/AliaksandrSiarohin/first-order-model /content/first-order-model\n",
        "%cd /content/first-order-model"
      ],
      "execution_count": 0,
      "outputs": []
    },
    {
      "cell_type": "code",
      "metadata": {
        "id": "W55D_MYxINU1",
        "colab_type": "code",
        "colab": {}
      },
      "source": [
        "from argparse import ArgumentParser\n",
        "from base64 import b64encode\n",
        "from demo import load_checkpoints, make_animation\n",
        "from IPython.display import HTML\n",
        "from multiprocessing import Process\n",
        "from PIL import Image \n",
        "from skimage import img_as_ubyte, io\n",
        "from skimage.transform import resize\n",
        "from tqdm import tqdm\n",
        "import face_alignment\n",
        "import glob\n",
        "import imageio\n",
        "import matplotlib.animation as animation\n",
        "import matplotlib.pyplot as plt\n",
        "%matplotlib inline\n",
        "import numpy as np\n",
        "import os\n",
        "import pandas as pd\n",
        "import subprocess\n",
        "import sys\n",
        "import warnings\n",
        "warnings.filterwarnings(\"ignore\")"
      ],
      "execution_count": 0,
      "outputs": []
    },
    {
      "cell_type": "code",
      "metadata": {
        "id": "htFWHk65ixaT",
        "colab_type": "code",
        "colab": {}
      },
      "source": [
        "generator, kp_detector = load_checkpoints(config_path='config/vox-adv-256.yaml', checkpoint_path='/content/vox-adv-cpk.pth.tar')"
      ],
      "execution_count": 0,
      "outputs": []
    },
    {
      "cell_type": "code",
      "metadata": {
        "colab_type": "code",
        "id": "gyU01vzBiHac",
        "colab": {}
      },
      "source": [
        "SOURCE_VIDEO_FILENAME = \"/content/video.mp4\""
      ],
      "execution_count": 0,
      "outputs": []
    },
    {
      "cell_type": "code",
      "metadata": {
        "colab_type": "code",
        "id": "p-29lohmiHaY",
        "colab": {}
      },
      "source": [
        "SOURCE_IMAGE_FILENAME = \"/content/foto.jpg\""
      ],
      "execution_count": 0,
      "outputs": []
    },
    {
      "cell_type": "markdown",
      "metadata": {
        "id": "yPui4oax3fyv",
        "colab_type": "text"
      },
      "source": [
        "# Recortando o rosto no vídeo.\n",
        "Isso deve demorar um pouco"
      ]
    },
    {
      "cell_type": "code",
      "metadata": {
        "id": "XmVVUnXhquFQ",
        "colab_type": "code",
        "colab": {}
      },
      "source": [
        "%%capture --no-display FFMPEG_COMMAND\n",
        "!python crop-video.py --inp $SOURCE_VIDEO_FILENAME --increase=$INCREASE | grep ffmpeg"
      ],
      "execution_count": 0,
      "outputs": []
    },
    {
      "cell_type": "markdown",
      "metadata": {
        "id": "2OmG-x703n8M",
        "colab_type": "text"
      },
      "source": [
        "# Continuando o processamento"
      ]
    },
    {
      "cell_type": "code",
      "metadata": {
        "id": "WndDU4XCqwrn",
        "colab_type": "code",
        "colab": {}
      },
      "source": [
        "print(FFMPEG_COMMAND.stderr)"
      ],
      "execution_count": 0,
      "outputs": []
    },
    {
      "cell_type": "code",
      "metadata": {
        "id": "CBQSWZwcvs9D",
        "colab_type": "code",
        "colab": {}
      },
      "source": [
        "print(FFMPEG_COMMAND.stdout)"
      ],
      "execution_count": 0,
      "outputs": []
    },
    {
      "cell_type": "code",
      "metadata": {
        "id": "wrzDZNMRxDFJ",
        "colab_type": "code",
        "colab": {}
      },
      "source": [
        "import re\n",
        "p = re.compile('(ffmpeg.*)')\n",
        "m = p.search(FFMPEG_COMMAND.stdout)\n",
        "command = m.group(1)\n",
        "LESS_VERBOSE = command.replace('ffmpeg', 'ffmpeg -hide_banner -loglevel warning -y ')"
      ],
      "execution_count": 0,
      "outputs": []
    },
    {
      "cell_type": "code",
      "metadata": {
        "id": "50_uKhWSx2H6",
        "colab_type": "code",
        "colab": {}
      },
      "source": [
        "LESS_VERBOSE"
      ],
      "execution_count": 0,
      "outputs": []
    },
    {
      "cell_type": "code",
      "metadata": {
        "id": "mdtjEN2_qzJs",
        "colab_type": "code",
        "colab": {}
      },
      "source": [
        "# LESS_VERBOSE = FFMPEG_COMMAND.stdout.replace('ffmpeg', 'ffmpeg -hide_banner -loglevel warning -y ')\n",
        "!$LESS_VERBOSE"
      ],
      "execution_count": 0,
      "outputs": []
    },
    {
      "cell_type": "code",
      "metadata": {
        "id": "YC6JyS1iu89V",
        "colab_type": "code",
        "colab": {}
      },
      "source": [
        "def compute_bbox(tube_bbox, frame_shape, increase_area=0.2):\n",
        "    left, top, right, bot, _ = tube_bbox\n",
        "    width = right - left\n",
        "    height = bot - top \n",
        "\n",
        "    #Computing aspect preserving bbox \n",
        "    width_increase = max(increase_area, ((1 + 2 * increase_area) * height - width) / (2 * width))\n",
        "    height_increase = max(increase_area, ((1 + 2 * increase_area) * width - height) / (2 * height))\n",
        "\n",
        "    left = int(left - width_increase * width)\n",
        "    top = int(top - height_increase * height)\n",
        "    right = int(right + width_increase * width)\n",
        "    bot = int(bot + height_increase * height)\n",
        "\n",
        "    top, bot, left, right = max(0, top), min(bot, frame_shape[0]), max(0, left), min(right, frame_shape[1])\n",
        "    h, w = bot - top, right - left\n",
        "\n",
        "    # print (f'-filter:v \"crop={w}:{h}:{left}:{top}\"')\n",
        "    return (left, top, right, bot)"
      ],
      "execution_count": 0,
      "outputs": []
    },
    {
      "cell_type": "markdown",
      "metadata": {
        "id": "AVpCedrrq-vU",
        "colab_type": "text"
      },
      "source": [
        "## Se mudou só a imagem, pode rodar denovo só a partir daqui."
      ]
    },
    {
      "cell_type": "code",
      "metadata": {
        "id": "uQY4f__weyFd",
        "colab_type": "code",
        "colab": {}
      },
      "source": [
        "image = io.imread(SOURCE_IMAGE_FILENAME)\n",
        "\n",
        "fa = face_alignment.FaceAlignment(face_alignment.LandmarksType._2D, flip_input=False, device='cuda')\n",
        "bboxes = fa.face_detector.detect_from_image(image[..., :3])"
      ],
      "execution_count": 0,
      "outputs": []
    },
    {
      "cell_type": "code",
      "metadata": {
        "id": "OUCzprxRjuIB",
        "colab_type": "code",
        "colab": {}
      },
      "source": [
        "# image = io.imread(SOURCE_IMAGE_FILENAME)\n",
        "\n",
        "# fa = face_alignment.FaceAlignment(face_alignment.LandmarksType._2D, flip_input=False, device='cuda')\n",
        "# bboxes = fa.face_detector.detect_from_image(image[..., :3])\n",
        "\n",
        "(left, top, right, bot) = compute_bbox(bboxes[0], image.shape[0:2], increase_area=INCREASE)\n",
        "\n",
        "source_image = image[top:bot,left:right,:]\n",
        "\n",
        "io.imsave(\"cropped_image.png\", source_image)\n",
        "plt.imshow(source_image)"
      ],
      "execution_count": 0,
      "outputs": []
    },
    {
      "cell_type": "code",
      "metadata": {
        "id": "2ChTUuGWe6PI",
        "colab_type": "code",
        "colab": {}
      },
      "source": [
        "(left, top, right, bot)"
      ],
      "execution_count": 0,
      "outputs": []
    },
    {
      "cell_type": "code",
      "metadata": {
        "id": "leHZsN_NjE6Q",
        "colab_type": "code",
        "colab": {}
      },
      "source": [
        "reader = imageio.get_reader('crop.mp4')\n",
        "FPS = reader.get_meta_data()['fps']\n",
        "reader.close()\n",
        "\n",
        "driving_video = imageio.mimread('crop.mp4')\n",
        "\n",
        "\n",
        "source_image = resize(source_image, (256, 256))[..., :3]\n",
        "driving_video = [resize(frame, (256, 256))[..., :3] for frame in driving_video]\n",
        "\n",
        "def display(source, driving, generated=None):\n",
        "    fig = plt.figure(figsize=(8 + 4 * (generated is not None), 6))\n",
        "\n",
        "    ims = []\n",
        "    for i in range(len(driving)):\n",
        "        cols = [source]\n",
        "        cols.append(driving[i])\n",
        "        if generated is not None:\n",
        "            cols.append(generated[i])\n",
        "        im = plt.imshow(np.concatenate(cols, axis=1), animated=True)\n",
        "        plt.axis('off')\n",
        "        ims.append([im])\n",
        "\n",
        "    ani = animation.ArtistAnimation(fig, ims, interval=50, repeat_delay=1000)\n",
        "    plt.close()\n",
        "    return ani\n",
        "    \n",
        "\n",
        "HTML(display(source_image, driving_video).to_html5_video())"
      ],
      "execution_count": 0,
      "outputs": []
    },
    {
      "cell_type": "markdown",
      "metadata": {
        "id": "i692cPw_FriI",
        "colab_type": "text"
      },
      "source": [
        "# Gerando o deepfake\n"
      ]
    },
    {
      "cell_type": "code",
      "metadata": {
        "id": "w2vOp3PfGzSz",
        "colab_type": "code",
        "colab": {}
      },
      "source": [
        "predictions = make_animation(source_image, driving_video, generator, kp_detector, relative=True)\n",
        "imageio.mimsave('/content/generated-relative.mp4', [img_as_ubyte(frame) for frame in predictions], fps=FPS)\n",
        "\n",
        "predictions = make_animation(source_image, driving_video, generator, kp_detector, relative=False, adapt_movement_scale=True)\n",
        "imageio.mimsave('/content/generated-absolute.mp4', [img_as_ubyte(frame) for frame in predictions], fps=FPS)"
      ],
      "execution_count": 0,
      "outputs": []
    },
    {
      "cell_type": "markdown",
      "metadata": {
        "id": "rIlYkYXIFyNK",
        "colab_type": "text"
      },
      "source": [
        "# Gerando o vídeo lado a lado"
      ]
    },
    {
      "cell_type": "code",
      "metadata": {
        "id": "Lbu-F5AfG1IN",
        "colab_type": "code",
        "colab": {}
      },
      "source": [
        "%%bash\n",
        "ffmpeg \\\n",
        "-hide_banner \\\n",
        "-y \\\n",
        "-loglevel error \\\n",
        "-i cropped_image.png \\\n",
        "-hwaccel cuvid \\\n",
        "-i crop.mp4 \\\n",
        "-i /content/generated-relative.mp4 \\\n",
        "-i https://i.ibb.co/x2ndW9G/disclaimer.png \\\n",
        "-async 1 \\\n",
        "-filter_complex  \"\n",
        "nullsrc=size=768x256                  [bg];\n",
        "[0]scale=256:256                      [srcimg];\n",
        "[3]format=bgra,colorchannelmixer=aa=0.5 [disclaimer];\n",
        "[bg][srcimg]       overlay            [bg+srcimg];\n",
        "[bg+srcimg][1:v]   overlay=x=256:shortest=1      [left+middle];\n",
        "[left+middle][2]   overlay=x=512      [left+middle+right];\n",
        "[left+middle+right][disclaimer]overlay=x=512 [resultado]  \n",
        "\" \\\n",
        "-map '[resultado]' -map 1:a:0?  \\\n",
        "-c:v h264 -preset veryslow  -c:a copy -metadata title=\"https://bit.ly/2Vars0s\" -y /content/complete-relative.mp4;\n",
        "\n"
      ],
      "execution_count": 0,
      "outputs": []
    },
    {
      "cell_type": "code",
      "metadata": {
        "id": "PPKHVr-dZXA-",
        "colab_type": "code",
        "colab": {}
      },
      "source": [
        "%%bash\n",
        "ffmpeg \\\n",
        "-hide_banner \\\n",
        "-y \\\n",
        "-loglevel error \\\n",
        "-i cropped_image.png \\\n",
        "-hwaccel cuvid \\\n",
        "-i crop.mp4 \\\n",
        "-i /content/generated-absolute.mp4 \\\n",
        "-i https://i.ibb.co/x2ndW9G/disclaimer.png \\\n",
        "-async 1 \\\n",
        "-filter_complex  \"\n",
        "nullsrc=size=768x256                  [bg];\n",
        "[0]scale=256:256                      [srcimg];\n",
        "[3]format=bgra,colorchannelmixer=aa=0.5 [disclaimer];\n",
        "[bg][srcimg]       overlay            [bg+srcimg];\n",
        "[bg+srcimg][1:v]   overlay=x=256:shortest=1      [left+middle];\n",
        "[left+middle][2]   overlay=x=512      [left+middle+right];\n",
        "[left+middle+right][disclaimer]overlay=x=512 [resultado]   \n",
        "\" \\\n",
        "-map '[resultado]' -map 1:a:0?  \\\n",
        "-c:v h264 -preset veryslow  -c:a copy -y -metadata title=\"https://bit.ly/2Vars0s\" /content/complete-absolute.mp4;"
      ],
      "execution_count": 0,
      "outputs": []
    },
    {
      "cell_type": "code",
      "metadata": {
        "id": "JKvt813yI78a",
        "colab_type": "code",
        "colab": {}
      },
      "source": [
        "relative = open('/content/complete-relative.mp4','rb').read()\n",
        "data_url_relative = \"data:video/mp4;base64,\" + b64encode(relative).decode()\n",
        "\n",
        "absolute = open('/content/complete-absolute.mp4','rb').read()\n",
        "data_url_absolute = \"data:video/mp4;base64,\" + b64encode(absolute).decode()"
      ],
      "execution_count": 0,
      "outputs": []
    },
    {
      "cell_type": "markdown",
      "metadata": {
        "id": "hsPiryhImEFb",
        "colab_type": "text"
      },
      "source": [
        "# RESULTADO\n",
        "Deve demorar uns 5 minutos"
      ]
    },
    {
      "cell_type": "code",
      "metadata": {
        "id": "6pwxZtBCGBJB",
        "colab_type": "code",
        "colab": {}
      },
      "source": [
        "HTML(\"\"\"\n",
        "<video controls=\"controls\" autoplay=\"autoplay\">\n",
        "      <source src=\"%s\" type=\"video/mp4\">\n",
        "</video>\n",
        "<br /><h1><a target=\"_blank\" href=\"%s\" download=\"deep_fake_relativo.mp4\">➡️Clique aqui baixar para o resultado relativo.⬅️</a><h1>\n",
        "<video controls=\"controls\" autoplay=\"autoplay\">\n",
        "      <source src=\"%s\" type=\"video/mp4\">\n",
        "</video>\n",
        "<br /><h1><a target=\"_blank\" href=\"%s\" download=\"deep_fake_absoluto.mp4\">➡️Clique aqui baixar para o resultado absoluto.⬅️</a><h1>\n",
        "\"\"\" % (data_url_relative, data_url_relative, data_url_absolute, data_url_absolute))"
      ],
      "execution_count": 0,
      "outputs": []
    }
  ]
}